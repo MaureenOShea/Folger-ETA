{
 "cells": [
  {
   "cell_type": "markdown",
   "id": "9d06107a-42d4-4c90-9f94-5af76efa509c",
   "metadata": {
    "tags": []
   },
   "source": [
    "# Metadata\n",
    "\n",
    "```\n",
    "Name: Maureen O'Shea (mo2cr@virginia.edu)\n",
    "Course: DS5001\n",
    "Date: 06 May 2022\n",
    "\n",
    "Title:   Convert Folger XML to CSV\n",
    "\n",
    "Description: Source documents and metadata about 37 Shakespearean plays.  Register a LIB table with play title and play code and an API table to hold API functions.\n",
    "\n",
    "Original Code Author:  R.C. Alvarado\n",
    "```"
   ]
  },
  {
   "cell_type": "markdown",
   "id": "9115113c-4d39-4b20-912f-3929f54b4b4d",
   "metadata": {},
   "source": [
    "# Set Up"
   ]
  },
  {
   "cell_type": "code",
   "execution_count": 1,
   "id": "0a6b3173-9eac-4ec7-804b-43c8f5748efb",
   "metadata": {},
   "outputs": [],
   "source": [
    "series_id = 22\n",
    "outdir = './dump'\n",
    "base_url = \"https://www.folgerdigitaltexts.org\"\n",
    "data_home = './data'"
   ]
  },
  {
   "cell_type": "code",
   "execution_count": 2,
   "id": "ea5eaa7a-38e9-45a2-83ce-27b0cc77b671",
   "metadata": {},
   "outputs": [],
   "source": [
    "import requests\n",
    "from lxml import etree\n",
    "import pandas as pd\n",
    "import numpy as np\n",
    "from io import StringIO\n",
    "from glob import glob\n",
    "import re"
   ]
  },
  {
   "cell_type": "markdown",
   "id": "4c3c2117-a01c-4496-8241-9a9b399722ac",
   "metadata": {},
   "source": [
    "# Folger XML's of Shakespearean Plays"
   ]
  },
  {
   "cell_type": "code",
   "execution_count": 3,
   "id": "8fe7e915-1c2d-437a-8d4d-3325e03f402f",
   "metadata": {},
   "outputs": [],
   "source": [
    "plays = \"\"\"\n",
    "AWW: All's Well That Ends Well\n",
    "Ant: Antony and Cleopatra\n",
    "AYL: As You Like It\n",
    "Err: The Comedy of Errors\n",
    "Cor: Coriolanus\n",
    "Cym: Cymbeline\n",
    "Ham: Hamlet\n",
    "1H4: Henry IV, Part 1\n",
    "2H4: Henry IV, Part 2\n",
    "H5: Henry V\n",
    "1H6: Henry VI, Part 1\n",
    "2H6: Henry VI, Part 2\n",
    "3H6: Henry VI, Part 3\n",
    "H8: Henry VIII\n",
    "JC: Julius Caesar\n",
    "Jn: King John\n",
    "Lr: King Lear\n",
    "LLL: Love's Labor's Lost\n",
    "Mac: Macbeth\n",
    "MM: Measure for Measure\n",
    "MV: The Merchant of Venice\n",
    "Wiv: The Merry Wives of Windsor\n",
    "MND: A Midsummer Night's Dream\n",
    "Ado: Much Ado About Nothing\n",
    "Oth: Othello\n",
    "Per: Pericles\n",
    "R2: Richard II\n",
    "R3: Richard III\n",
    "Rom: Romeo and Juliet\n",
    "Shr: The Taming of the Shrew\n",
    "Tmp: The Tempest\n",
    "Tim: Timon of Athens\n",
    "Tit: Titus Andronicus\n",
    "Tro: Troilus and Cressida\n",
    "TN: Twelfth Night\n",
    "TGV: Two Gentlemen of Verona\n",
    "WT: The Winter's Tale\n",
    "\"\"\".split('\\n')[1:-1]\n",
    "\n",
    "# remove TNK: Two Noble Kinsmen.  TNK is thought to be a collaborative play written in part (and not completely) by Shakespeare.  "
   ]
  },
  {
   "cell_type": "markdown",
   "id": "548de5d1-47ac-4955-b8d0-df08316007fd",
   "metadata": {},
   "source": [
    "# Register a `LIB` "
   ]
  },
  {
   "cell_type": "code",
   "execution_count": 4,
   "id": "3ee0bf34-0041-4aea-8f4f-457af8320cd4",
   "metadata": {},
   "outputs": [],
   "source": [
    "LIB = pd.DataFrame([play.split(': ') for play in plays], columns=['play_code','play_title'])\n",
    "LIB.index.name = 'play_id'"
   ]
  },
  {
   "cell_type": "code",
   "execution_count": 5,
   "id": "5db1dc68-13f7-494f-95d0-279dd6caa999",
   "metadata": {},
   "outputs": [
    {
     "data": {
      "text/html": [
       "<div>\n",
       "<style scoped>\n",
       "    .dataframe tbody tr th:only-of-type {\n",
       "        vertical-align: middle;\n",
       "    }\n",
       "\n",
       "    .dataframe tbody tr th {\n",
       "        vertical-align: top;\n",
       "    }\n",
       "\n",
       "    .dataframe thead th {\n",
       "        text-align: right;\n",
       "    }\n",
       "</style>\n",
       "<table border=\"1\" class=\"dataframe\">\n",
       "  <thead>\n",
       "    <tr style=\"text-align: right;\">\n",
       "      <th></th>\n",
       "      <th>play_code</th>\n",
       "      <th>play_title</th>\n",
       "    </tr>\n",
       "    <tr>\n",
       "      <th>play_id</th>\n",
       "      <th></th>\n",
       "      <th></th>\n",
       "    </tr>\n",
       "  </thead>\n",
       "  <tbody>\n",
       "    <tr>\n",
       "      <th>0</th>\n",
       "      <td>AWW</td>\n",
       "      <td>All's Well That Ends Well</td>\n",
       "    </tr>\n",
       "    <tr>\n",
       "      <th>1</th>\n",
       "      <td>Ant</td>\n",
       "      <td>Antony and Cleopatra</td>\n",
       "    </tr>\n",
       "    <tr>\n",
       "      <th>2</th>\n",
       "      <td>AYL</td>\n",
       "      <td>As You Like It</td>\n",
       "    </tr>\n",
       "    <tr>\n",
       "      <th>3</th>\n",
       "      <td>Err</td>\n",
       "      <td>The Comedy of Errors</td>\n",
       "    </tr>\n",
       "    <tr>\n",
       "      <th>4</th>\n",
       "      <td>Cor</td>\n",
       "      <td>Coriolanus</td>\n",
       "    </tr>\n",
       "  </tbody>\n",
       "</table>\n",
       "</div>"
      ],
      "text/plain": [
       "        play_code                 play_title\n",
       "play_id                                     \n",
       "0             AWW  All's Well That Ends Well\n",
       "1             Ant       Antony and Cleopatra\n",
       "2             AYL             As You Like It\n",
       "3             Err       The Comedy of Errors\n",
       "4             Cor                 Coriolanus"
      ]
     },
     "execution_count": 5,
     "metadata": {},
     "output_type": "execute_result"
    }
   ],
   "source": [
    "LIB.head()"
   ]
  },
  {
   "cell_type": "markdown",
   "id": "9603717c-3343-4eb9-ad47-aca05af5fc41",
   "metadata": {},
   "source": [
    "# Register an `API` "
   ]
  },
  {
   "cell_type": "code",
   "execution_count": 6,
   "id": "6400c9e0-9545-4974-9849-cd9567cc314f",
   "metadata": {},
   "outputs": [],
   "source": [
    "api_funcs = \"\"\"\n",
    "synopsis: (+ act/scene, optionally) returns a synopsis of the play and its scenes\n",
    "ftln (+ Folger through line number): returns the spoken text at that FTLN\n",
    "word (+ word id) : returns information about that word\n",
    "segment (+ object id) : returns the text of that xml:id\n",
    "text: returns only the spoken text in that play\n",
    "charText: returns a list of characters arranged according to amount of lines spoken, with a link to each character's entire spoken text\n",
    "charTextMinus: returns a list of characters arranged according to amount of lines spoken, with a link to the play's spoken text, minus this character\n",
    "concordance: lists the words used (in spoken text) and their frequency\n",
    "monologue (+ optional line count): provides a list of speeches longer than the given line count (defaults to 30 lines)\n",
    "onStage (+ ftln): returns a list of characters on stage at that line\n",
    "charChart: provides a graphical representation of who is on stage across a timeline of the play\n",
    "parts: provides parts or cue scripts for each character\n",
    "witScript: provides \"witScripts\" for each character. \"Witness\" or \"Witmore\" scripts attempt to show what a character sees. They offer the play text only when that character is on stage.\n",
    "sounds: returns a list of all stage directions that contain sounds (i.e., \"music,\" \"flourish,\" \"thunder\")\n",
    "scenes: returns a list of all the scenes in the play\n",
    "\"\"\".split('\\n')[1:-1]"
   ]
  },
  {
   "cell_type": "code",
   "execution_count": 7,
   "id": "cc4e5434-17cf-4b39-a6be-e8a4c9a9db53",
   "metadata": {},
   "outputs": [],
   "source": [
    "API = pd.DataFrame([func.split(': ') for func in api_funcs], columns=['func_key','func_desc'])\n",
    "API.index.name = 'func_id'"
   ]
  },
  {
   "cell_type": "code",
   "execution_count": 8,
   "id": "f83aaec1-a8b8-43e3-8955-a6609f3d7446",
   "metadata": {},
   "outputs": [
    {
     "data": {
      "text/html": [
       "<div>\n",
       "<style scoped>\n",
       "    .dataframe tbody tr th:only-of-type {\n",
       "        vertical-align: middle;\n",
       "    }\n",
       "\n",
       "    .dataframe tbody tr th {\n",
       "        vertical-align: top;\n",
       "    }\n",
       "\n",
       "    .dataframe thead th {\n",
       "        text-align: right;\n",
       "    }\n",
       "</style>\n",
       "<table border=\"1\" class=\"dataframe\">\n",
       "  <thead>\n",
       "    <tr style=\"text-align: right;\">\n",
       "      <th></th>\n",
       "      <th>func_key</th>\n",
       "      <th>func_desc</th>\n",
       "    </tr>\n",
       "    <tr>\n",
       "      <th>func_id</th>\n",
       "      <th></th>\n",
       "      <th></th>\n",
       "    </tr>\n",
       "  </thead>\n",
       "  <tbody>\n",
       "    <tr>\n",
       "      <th>0</th>\n",
       "      <td>synopsis</td>\n",
       "      <td>(+ act/scene, optionally) returns a synopsis o...</td>\n",
       "    </tr>\n",
       "    <tr>\n",
       "      <th>1</th>\n",
       "      <td>ftln (+ Folger through line number)</td>\n",
       "      <td>returns the spoken text at that FTLN</td>\n",
       "    </tr>\n",
       "    <tr>\n",
       "      <th>2</th>\n",
       "      <td>word (+ word id)</td>\n",
       "      <td>returns information about that word</td>\n",
       "    </tr>\n",
       "    <tr>\n",
       "      <th>3</th>\n",
       "      <td>segment (+ object id)</td>\n",
       "      <td>returns the text of that xml:id</td>\n",
       "    </tr>\n",
       "    <tr>\n",
       "      <th>4</th>\n",
       "      <td>text</td>\n",
       "      <td>returns only the spoken text in that play</td>\n",
       "    </tr>\n",
       "    <tr>\n",
       "      <th>5</th>\n",
       "      <td>charText</td>\n",
       "      <td>returns a list of characters arranged accordin...</td>\n",
       "    </tr>\n",
       "    <tr>\n",
       "      <th>6</th>\n",
       "      <td>charTextMinus</td>\n",
       "      <td>returns a list of characters arranged accordin...</td>\n",
       "    </tr>\n",
       "    <tr>\n",
       "      <th>7</th>\n",
       "      <td>concordance</td>\n",
       "      <td>lists the words used (in spoken text) and thei...</td>\n",
       "    </tr>\n",
       "    <tr>\n",
       "      <th>8</th>\n",
       "      <td>monologue (+ optional line count)</td>\n",
       "      <td>provides a list of speeches longer than the gi...</td>\n",
       "    </tr>\n",
       "    <tr>\n",
       "      <th>9</th>\n",
       "      <td>onStage (+ ftln)</td>\n",
       "      <td>returns a list of characters on stage at that ...</td>\n",
       "    </tr>\n",
       "    <tr>\n",
       "      <th>10</th>\n",
       "      <td>charChart</td>\n",
       "      <td>provides a graphical representation of who is ...</td>\n",
       "    </tr>\n",
       "    <tr>\n",
       "      <th>11</th>\n",
       "      <td>parts</td>\n",
       "      <td>provides parts or cue scripts for each character</td>\n",
       "    </tr>\n",
       "    <tr>\n",
       "      <th>12</th>\n",
       "      <td>witScript</td>\n",
       "      <td>provides \"witScripts\" for each character. \"Wit...</td>\n",
       "    </tr>\n",
       "    <tr>\n",
       "      <th>13</th>\n",
       "      <td>sounds</td>\n",
       "      <td>returns a list of all stage directions that co...</td>\n",
       "    </tr>\n",
       "    <tr>\n",
       "      <th>14</th>\n",
       "      <td>scenes</td>\n",
       "      <td>returns a list of all the scenes in the play</td>\n",
       "    </tr>\n",
       "  </tbody>\n",
       "</table>\n",
       "</div>"
      ],
      "text/plain": [
       "                                    func_key  \\\n",
       "func_id                                        \n",
       "0                                   synopsis   \n",
       "1        ftln (+ Folger through line number)   \n",
       "2                          word (+ word id)    \n",
       "3                     segment (+ object id)    \n",
       "4                                       text   \n",
       "5                                   charText   \n",
       "6                              charTextMinus   \n",
       "7                                concordance   \n",
       "8          monologue (+ optional line count)   \n",
       "9                           onStage (+ ftln)   \n",
       "10                                 charChart   \n",
       "11                                     parts   \n",
       "12                                 witScript   \n",
       "13                                    sounds   \n",
       "14                                    scenes   \n",
       "\n",
       "                                                 func_desc  \n",
       "func_id                                                     \n",
       "0        (+ act/scene, optionally) returns a synopsis o...  \n",
       "1                     returns the spoken text at that FTLN  \n",
       "2                      returns information about that word  \n",
       "3                          returns the text of that xml:id  \n",
       "4                returns only the spoken text in that play  \n",
       "5        returns a list of characters arranged accordin...  \n",
       "6        returns a list of characters arranged accordin...  \n",
       "7        lists the words used (in spoken text) and thei...  \n",
       "8        provides a list of speeches longer than the gi...  \n",
       "9        returns a list of characters on stage at that ...  \n",
       "10       provides a graphical representation of who is ...  \n",
       "11        provides parts or cue scripts for each character  \n",
       "12       provides \"witScripts\" for each character. \"Wit...  \n",
       "13       returns a list of all stage directions that co...  \n",
       "14            returns a list of all the scenes in the play  "
      ]
     },
     "execution_count": 8,
     "metadata": {},
     "output_type": "execute_result"
    }
   ],
   "source": [
    "API"
   ]
  },
  {
   "cell_type": "code",
   "execution_count": 9,
   "id": "da16408c-5276-4da6-957f-71387a97832d",
   "metadata": {},
   "outputs": [],
   "source": [
    "my_funcs = \"synopsis text charText charTextMinus concordance scenes\".split()"
   ]
  },
  {
   "cell_type": "code",
   "execution_count": 10,
   "id": "ec1dacea-e90c-4914-aed1-ae214b37727b",
   "metadata": {},
   "outputs": [],
   "source": [
    "# list of function paths\n",
    "\n",
    "urls = [f\"{base_url}/{x[0]}/{x[1]}\" for x in pd.MultiIndex.from_product([LIB.play_code, my_funcs]).tolist()]"
   ]
  },
  {
   "cell_type": "code",
   "execution_count": 11,
   "id": "f0fd3028-65c3-45e2-900f-ac1c93ad467e",
   "metadata": {},
   "outputs": [],
   "source": [
    "# list of source_file_paths\n",
    "\n",
    "source_file_path = [f\"{base_url}/{x[0]}\" for x in pd.MultiIndex.from_product([LIB.play_code]).tolist()]"
   ]
  },
  {
   "cell_type": "markdown",
   "id": "5b63832d-0e1b-4197-b8bc-4c188c55495e",
   "metadata": {},
   "source": [
    "# Save to CSV"
   ]
  },
  {
   "cell_type": "code",
   "execution_count": 12,
   "id": "cbcad62a-4b3b-462e-bd8a-7a9165ae2cc4",
   "metadata": {},
   "outputs": [],
   "source": [
    "LIB.to_csv(f'{data_home}/folger-LIB.csv')"
   ]
  },
  {
   "cell_type": "code",
   "execution_count": 13,
   "id": "0f2acb32-316b-4d91-bd4c-74500bec5447",
   "metadata": {},
   "outputs": [],
   "source": [
    "API.to_csv(f'{data_home}/folger-API.csv')"
   ]
  },
  {
   "cell_type": "code",
   "execution_count": null,
   "id": "f2c81016-c056-4be4-b09e-d1fce7b698c7",
   "metadata": {},
   "outputs": [],
   "source": []
  }
 ],
 "metadata": {
  "kernelspec": {
   "display_name": "Python 3",
   "language": "python",
   "name": "python3"
  },
  "language_info": {
   "codemirror_mode": {
    "name": "ipython",
    "version": 3
   },
   "file_extension": ".py",
   "mimetype": "text/x-python",
   "name": "python",
   "nbconvert_exporter": "python",
   "pygments_lexer": "ipython3",
   "version": "3.7.6"
  }
 },
 "nbformat": 4,
 "nbformat_minor": 5
}
